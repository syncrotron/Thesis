{
 "cells": [
  {
   "cell_type": "markdown",
   "metadata": {},
   "source": [
    "# Deep Pheno Net\n",
    "### A convolutional neural network for classification of FHD in bread wheate\n",
    "By Samuel Horovatin, s.horovatin@usask.ca"
   ]
  },
  {
   "cell_type": "markdown",
   "metadata": {},
   "source": [
    "First, we must import relevant packages for data import and pre-processing. Note, images being fed to this network have been pre-processed using the phenoSEED script included in [BELT source code](https://gitlab.com/usask-speclab/phenoseed)."
   ]
  },
  {
   "cell_type": "code",
   "execution_count": 16,
   "metadata": {},
   "outputs": [],
   "source": [
    "# general math libraries\n",
    "import pandas as pd\n",
    "import numpy as np\n",
    "\n",
    "# for import of images and displaying images\n",
    "from skimage.io import imread\n",
    "import matplotlib.pyplot as plt\n",
    "%matplotlib inline\n",
    "\n",
    "# for creating training, validation, and test split\n",
    "from sklearn.model_selection import train_test_split\n",
    "\n",
    "# for evaluating the model\n",
    "from sklearn.metrics import accuracy_score\n",
    "# use for showing progress of loops\n",
    "from tqdm import tqdm\n",
    "\n",
    "# various pytorch libraries\n",
    "import torch\n",
    "from torch.autograd import Variable\n",
    "from torch.nn import Linear, ReLU, CrossEntropyLoss, Sequential, Conv2d, MaxPool2d, Module, Softmax, BatchNorm2d, Dropout\n",
    "from torch.optim import Adam, SGD\n",
    "\n",
    "# imports for arguments and logging\n",
    "import logging\n",
    "from datetime import datetime, timedelta\n",
    "import argparse\n",
    "import os\n",
    "import glob\n"
   ]
  },
  {
   "cell_type": "markdown",
   "metadata": {},
   "source": [
    "The first step in the pipeline is to set up the logger."
   ]
  },
  {
   "cell_type": "code",
   "execution_count": 11,
   "metadata": {},
   "outputs": [],
   "source": [
    "class DeepPhenoNet:\n",
    "    def __init__(self):\n",
    "        self.outpath = \"/birl2/users/sch923/Thesis/Data/deep_phen_out\"\n",
    "        self.inpath = \"/birl2/users/sch923/Thesis/Data/phenoSEEDOutput\"\n",
    "        self.netsavepath = \"/birl2/users/sch923/Thesis/Data/deep_pheno_net\"\n",
    "        self.labels = \"birl2/users/sch923/Thesis/Data/deep_pheno_netlabels.csv\"\n",
    "        self.extension = '*.npz'"
   ]
  },
  {
   "cell_type": "code",
   "execution_count": 15,
   "metadata": {},
   "outputs": [
    {
     "name": "stderr",
     "output_type": "stream",
     "text": [
      "INFO:root: Output Directory Set: /birl2/users/sch923/Thesis/Data/deep_phen_out\n",
      "INFO:root: Input Directory Set: /birl2/users/sch923/Thesis/Data/phenoSEEDOutput\n",
      "INFO:root: Network Save Directory Set: /birl2/users/sch923/Thesis/Data/deep_pheno_net\n",
      "INFO:root: Labels CSV found: birl2/users/sch923/Thesis/Data/deep_pheno_netlabels.csv\n"
     ]
    }
   ],
   "source": [
    "# Construct argument parser and define command line arguments\n",
    "\n",
    "net_settings = DeepPhenoNet()\n",
    "# arg_parser = argparse.ArgumentParser(description='A convolutional neural network script which classifys fusarium head blight in images of bread wheat kernels.')\n",
    "# arg_parser.add_argument('-o', \"--output\", type=str, default=net_settings.outpath,\n",
    "#                         help='path to output classification findings.')\n",
    "# arg_parser.add_argument('-i', \"--input\", type=str, default=net_settings.inpath,\n",
    "#                         help='path to input data - will be searched recursively.')\n",
    "# arg_parser.add_argument('-n', \"--network\", type=str, default=net_settings.netsavepath,\n",
    "#                         help='path load/save the trained network.')\n",
    "# arg_parser.add_argument('-l', \"--labels\", type=str, default=net_settings.labels,\n",
    "#                         help='path to csv label table. Should have headers: id, fdh')\n",
    "# args = arg_parser.parse_args()\n",
    "\n",
    "debug_level = getattr(logging, 'INFO', None)\n",
    "logging.basicConfig(level=debug_level)\n",
    "\n",
    "# Check validity of provided paths\n",
    "# if not os.path.isdir(args.output):\n",
    "#     logging.error(f'Provided output directory ({args.output}) cannot be found.')\n",
    "#     exit()\n",
    "# elif not os.path.isdir(args.input):\n",
    "#     logging.error(f'Provided input directory ({args.input}) cannot be found.')\n",
    "#     exit()\n",
    "# elif not os.path.isdir(args.network):\n",
    "#     logging.error(f'Provided network save directory ({args.network}) cannot be found.')\n",
    "#     exit()\n",
    "# elif not os.path.isfile(args.labels):\n",
    "#     logging.error(f'Provided labels file ({args.labels}) cannot be found.')\n",
    "#     exit()\n",
    "# else:\n",
    "#     # Slightly redundent in case where defaults are used.\n",
    "#     net_settings.outpath = args.output\n",
    "#     net_settings.inpath = args.input\n",
    "#     net_settings.netsavepath = args.network\n",
    "#     net_settings.labels = args.labels\n",
    "\n",
    "logging.info(f' Output Directory Set: {net_settings.outpath}')\n",
    "logging.info(f' Input Directory Set: {net_settings.inpath}')\n",
    "logging.info(f' Network Save Directory Set: {net_settings.netsavepath}')\n",
    "logging.info(f' Labels CSV found: {net_settings.labels}')"
   ]
  },
  {
   "cell_type": "code",
   "execution_count": null,
   "metadata": {},
   "outputs": [],
   "source": [
    "# Load the label metadata\n",
    "labels = pd.read_csv(net_settings.labels)\n",
    "images = glob.glob(os.path.join(net_settings.inpath, '**', net_settings.extension), recursive=True)\n",
    "if len(images) == 0:\n",
    "    logging.error(f' there are no {net_settings.extension} found in supplied directory: \\n{net_settings.inpath}')\n",
    "    exit()\n",
    "\n",
    "images.sort()\n",
    "   "
   ]
  }
 ],
 "metadata": {
  "interpreter": {
   "hash": "c635f4ab5a2e7b1a96e5e6d3c32670d56cf35b04e2899008c03b94d413bc746f"
  },
  "kernelspec": {
   "display_name": "Python 3.9.6 64-bit ('pyt_cuda': conda)",
   "name": "python3"
  },
  "language_info": {
   "codemirror_mode": {
    "name": "ipython",
    "version": 3
   },
   "file_extension": ".py",
   "mimetype": "text/x-python",
   "name": "python",
   "nbconvert_exporter": "python",
   "pygments_lexer": "ipython3",
   "version": "3.9.6"
  },
  "orig_nbformat": 4
 },
 "nbformat": 4,
 "nbformat_minor": 2
}
