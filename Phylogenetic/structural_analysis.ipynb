{
 "cells": [
  {
   "cell_type": "markdown",
   "metadata": {},
   "source": [
    "# Structural Analysis Script\n",
    "Created by Samuel Horovatin February 2022.\n",
    "\n",
    "This script is meant to take as input correctly formatted hapmap data (see http://augustogarcia.me/statgen-esalq/Hapmap-and-VCF-formats-and-its-integration-with-onemap/) and generate some useful analysis.\n",
    "\n",
    "Two forms of anaylsis are produced currently: trait based analysis and line based analysis. The analysis content was inspired by the paper found here: https://humgenomics.biomedcentral.com/articles/10.1186/s40246-018-0156-4\n",
    "\n",
    "**Trait Based Analysis**\n",
    "* SNP call rate: The rate of missing SNP data per trait across all lines. 0.95 is considered the threshold for removal. In the SNP data I am using, the last 16 lines are devoid of SNP data, thus an extra SNP call rate is calculated removing them. \n",
    "* Expected Hardy-Weinberg equilibrium (HWE): The expected HWE for trait across all lines.\n",
    "* Actual Hardy-Weinberg equilibrium (HWE): The actual HWE for trait across all lines."
   ]
  },
  {
   "cell_type": "code",
   "execution_count": null,
   "metadata": {},
   "outputs": [],
   "source": [
    "import pandas as pd\n",
    "import numpy as np\n",
    "\n",
    "# Name/location of correctly formatted hapmap. Utilizes output of hapmap_gen.ipynb\n",
    "HAPMAP = \"./hapmaps/wheat_hapmap_gen_8222SNP.txt\"\n",
    "\n",
    "# Column headers used within the fromated hapmap\n",
    "HAPMAP_HEADERS = ['rs#','alleles','chrom','pos','strand','assembly#','center', 'protLSID', 'assayLSID', 'panelLSID', 'QCcode']\n",
    "\n",
    "# Name/location of tab deliminated Trait Analysis output file\n",
    "TRAIT_OUTPUT = \"./8222SNP_Trait_Analysis.txt\"\n",
    "\n",
    "# Column headers for interesting population statistics in output file\n",
    "TRAIT_HEADERS = ['rs#', 'snpCallRate', 'snpCallRateTrim-16', 'HWE_Expected', 'HWE_Actual', 'ViolatesHWE', 'MAF']"
   ]
  },
  {
   "cell_type": "code",
   "execution_count": null,
   "metadata": {},
   "outputs": [],
   "source": [
    "# Load in the relevant data\n",
    "hap_df = pd.read_csv(HAPMAP, sep='\\t')"
   ]
  }
 ],
 "metadata": {
  "language_info": {
   "name": "python"
  },
  "orig_nbformat": 4
 },
 "nbformat": 4,
 "nbformat_minor": 2
}
