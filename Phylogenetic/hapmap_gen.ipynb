{
 "cells": [
  {
   "cell_type": "markdown",
   "metadata": {},
   "source": [
    "# Hapmap Generator\n",
    "## By Samuel Horovatin, s.horovatin@usask.ca\n",
    "\n",
    "A simplistic hapmap generator. Follows the format outlined here: http://augustogarcia.me/statgen-esalq/Hapmap-and-VCF-formats-and-its-integration-with-onemap/"
   ]
  },
  {
   "cell_type": "code",
   "execution_count": 2,
   "metadata": {},
   "outputs": [],
   "source": [
    "import os, sys\n",
    "import pandas as pd\n",
    "import numpy\n",
    "\n",
    "# Change to path of unprocessed hapmap. Format should be: Index, Name, Traits.....\n",
    "RAWHAP = \"./hapmaps/wheat_hapmap_new.txt\"\n",
    "\n",
    "# Change to path of 90K summary. Found mine at: :https://urgi.versailles.inra.fr/download/iwgsc/IWGSC_RefSeq_Annotations/v1.0/, zip file: iwgsc_refseqv1.0_Marker_mapping_summary_2017Mar13/infinium90K.summary.gff)\n",
    "# Made a slight edit to the raw summary to add headers (chrom\t1\t2\tpos1\tpos2\t3\tstrand\t4\tother)\n",
    "SUMMARY90K = \"./hapmaps/infinium90K.summary.gff\"\n",
    "\n",
    "# Change to output file location/name\n",
    "OUTPUT = \"./hapmaps/wheat_hapmap_gen.txt\"\n",
    "\n",
    "# Column headers used within the fromated hapmap\n",
    "COLHEADERS = ['rs#','alleles','chrom','pos','strand','assembly#','center', 'protLSID', 'assayLSID', 'panelLSID', 'QCcode']\n",
    "\n",
    "# Column headers for none SNP columns used in the RAWHAP\n",
    "SUMMARYHEADERS = ['Index', 'Name']"
   ]
  },
  {
   "cell_type": "code",
   "execution_count": 3,
   "metadata": {},
   "outputs": [],
   "source": [
    "# Load in the relevant data\n",
    "raw_hap_df = pd.read_csv(RAWHAP, sep='\\t')\n",
    "summary_90k_df = pd.read_csv(SUMMARY90K, sep='\\t')"
   ]
  },
  {
   "cell_type": "code",
   "execution_count": 4,
   "metadata": {},
   "outputs": [],
   "source": [
    "# Splits other column into distinct columns and does a touch of trimming\n",
    "summary_90k_df[['ID', 'Name', 'coverage', 'identity']] = summary_90k_df['other'].str.split(';',expand=True) \n",
    "summary_90k_df['chrom'] = summary_90k_df['chrom'].map(lambda x: x.replace('chr', ''))\n",
    "summary_90k_df['ID'] = summary_90k_df['ID'].map(lambda x: x.replace('ID=', ''))\n",
    "summary_90k_df['Name'] = summary_90k_df['Name'].map(lambda x: x.replace('Name=', ''))\n",
    "summary_90k_df['coverage'] = summary_90k_df['coverage'].map(lambda x: x.replace('coverage=', ''))\n",
    "summary_90k_df['identity'] = summary_90k_df['identity'].map(lambda x: x.replace('identity=', ''))"
   ]
  },
  {
   "cell_type": "code",
   "execution_count": 10,
   "metadata": {},
   "outputs": [
    {
     "name": "stdout",
     "output_type": "stream",
     "text": [
      "                             Name alleles\n",
      "0                   BS00011231_51     G/A\n",
      "1                   BS00030571_51     G/A\n",
      "2                   BS00033750_51     G/A\n",
      "3                   Ex_c6145_2193     G/A\n",
      "4             Excalibur_c3948_235       G\n",
      "...                           ...     ...\n",
      "7349  wsnp_RFL_Contig4207_4836784     G/A\n",
      "7350                     IACX6482     T/A\n",
      "7351                     IACX3386     T/A\n",
      "7352                     IAAV5266     T/A\n",
      "7353                     IACX6176     T/A\n",
      "\n",
      "[7354 rows x 2 columns]\n"
     ]
    }
   ],
   "source": [
    "# Generates allele options in format required for hapmap by finding all unique bases in row\n",
    "# Slaps alleles in dataframe alleles_df\n",
    "index_col = SUMMARYHEADERS[1]\n",
    "alleles = []\n",
    "\n",
    "\n",
    "alleles_df = pd.DataFrame(raw_hap_df[index_col])\n",
    "rawhap_allele_data_df = raw_hap_df.loc[:, ~raw_hap_df.columns.isin(SUMMARYHEADERS)] # removes all none SNP columns\n",
    "rawhap_allele_data_list = rawhap_allele_data_df.values.tolist()\n",
    "\n",
    "for row in rawhap_allele_data_list:\n",
    "    alleles.append(\"/\".join(set(''.join(row).replace('-', '')))) \n",
    "alleles_df['alleles'] = alleles\n",
    "\n",
    "    \n",
    "print(alleles_df)"
   ]
  },
  {
   "cell_type": "code",
   "execution_count": 39,
   "metadata": {},
   "outputs": [
    {
     "name": "stdout",
     "output_type": "stream",
     "text": [
      "                              rs# alleles chrom        pos strand assembly#  \\\n",
      "0                   BS00011231_51     G/A    3A  685357846      +        NA   \n",
      "1                   BS00030571_51     G/A    4B  602404417      +        NA   \n",
      "2                   BS00033750_51     G/A    Un  150797593      +        NA   \n",
      "3                   Ex_c6145_2193     G/A    1D   12534470      -        NA   \n",
      "4             Excalibur_c3948_235       G    5D   26791983      -        NA   \n",
      "...                           ...     ...   ...        ...    ...       ...   \n",
      "7349  wsnp_RFL_Contig4207_4836784     G/A    6D   62114895      -        NA   \n",
      "7350                     IACX6482     T/A    6A   79268282      -        NA   \n",
      "7351                     IACX3386     T/A    6A    5327273      -        NA   \n",
      "7352                     IAAV5266     T/A    6D    5988099      -        NA   \n",
      "7353                     IACX6176     T/A    5B  707131602      +        NA   \n",
      "\n",
      "     center protLSID assayLSID panelLSID QCcode  \n",
      "0        NA       NA        NA        NA     NA  \n",
      "1        NA       NA        NA        NA     NA  \n",
      "2        NA       NA        NA        NA     NA  \n",
      "3        NA       NA        NA        NA     NA  \n",
      "4        NA       NA        NA        NA     NA  \n",
      "...     ...      ...       ...       ...    ...  \n",
      "7349     NA       NA        NA        NA     NA  \n",
      "7350     NA       NA        NA        NA     NA  \n",
      "7351     NA       NA        NA        NA     NA  \n",
      "7352     NA       NA        NA        NA     NA  \n",
      "7353     NA       NA        NA        NA     NA  \n",
      "\n",
      "[7354 rows x 11 columns]\n"
     ]
    }
   ],
   "source": [
    "# Generate new hapmap file\n",
    "\n",
    "\n",
    "gen_hap_df = pd.DataFrame()\n",
    "# For rs#\n",
    "gen_hap_df[COLHEADERS[0]] = raw_hap_df['Name']\n",
    "# For alleles\n",
    "gen_hap_df = gen_hap_df.merge(alleles_df, left_on='rs#', right_on='Name')[COLHEADERS[0:2]]\n",
    "\n",
    "summary_gen_merge_df = gen_hap_df.merge(summary_90k_df, left_on='rs#', right_on='Name') # ASSUMPTION: When creating this merge, I assume that the first common \"rs#\" <-> \"Name\" found for each row is used, as \"Name\" is not unique in summary_90k_df\n",
    "# For chrom\n",
    "gen_hap_df[COLHEADERS[2]] = summary_gen_merge_df[COLHEADERS[2]] \n",
    "# For pos\n",
    "gen_hap_df[COLHEADERS[3]] = summary_gen_merge_df['pos1'] # Magic value 'pos1' comes from a email suggestion that this column contained relevant position info\n",
    "# For strand\n",
    "gen_hap_df[COLHEADERS[4]] = summary_gen_merge_df[COLHEADERS[4]]  \n",
    "# For other columns not relevant to goal hapmap\n",
    "gen_hap_df[COLHEADERS[5:len(COLHEADERS)]] = 'NA'\n",
    "\n",
    "print(gen_hap_df)"
   ]
  },
  {
   "cell_type": "code",
   "execution_count": null,
   "metadata": {},
   "outputs": [],
   "source": []
  },
  {
   "cell_type": "code",
   "execution_count": null,
   "metadata": {},
   "outputs": [],
   "source": []
  }
 ],
 "metadata": {
  "kernelspec": {
   "display_name": "Python (test)",
   "language": "python",
   "name": "test"
  },
  "language_info": {
   "codemirror_mode": {
    "name": "ipython",
    "version": 3
   },
   "file_extension": ".py",
   "mimetype": "text/x-python",
   "name": "python",
   "nbconvert_exporter": "python",
   "pygments_lexer": "ipython3",
   "version": "3.7.11"
  }
 },
 "nbformat": 4,
 "nbformat_minor": 2
}
