{
 "cells": [
  {
   "cell_type": "markdown",
   "metadata": {},
   "source": [
    "# Hapmap Generator\n",
    "## By Samuel Horovatin, s.horovatin@usask.ca\n",
    "\n",
    "A simplistic hapmap generator. Follows the format outlined here: http://augustogarcia.me/statgen-esalq/Hapmap-and-VCF-formats-and-its-integration-with-onemap/"
   ]
  },
  {
   "cell_type": "code",
   "execution_count": 25,
   "metadata": {},
   "outputs": [],
   "source": [
    "import os, sys\n",
    "import pandas as pd\n",
    "import numpy as np\n",
    "\n",
    "# Change to path of unprocessed hapmap. Format should be: Index, Name, Traits.....\n",
    "# RAWHAP = \"./hapmaps/wheat_hapmap_new.txt\" # Old RAWHAP as of 02/01/2022\n",
    "RAWHAP = \"./hapmaps/8222SNP_406samples_HexPGRCFull Data_TopAllele.txt\" # Made Modification to column names to remove \".Top Alleles\"\n",
    "\n",
    "# Change to path of 90K summary. Found mine at: :https://urgi.versailles.inra.fr/download/iwgsc/IWGSC_RefSeq_Annotations/v1.0/, zip file: iwgsc_refseqv1.0_Marker_mapping_summary_2017Mar13/infinium90K.summary.gff)\n",
    "# Made a slight edit to the raw summary to add headers (chrom\t1\t2\tpos1\tpos2\t3\tstrand\t4\tother)\n",
    "SUMMARY90K = \"./hapmaps/infinium90K.summary.gff\"\n",
    "\n",
    "# Change to output file location/name\n",
    "OUTPUT = \"./hapmaps/wheat_hapmap_gen_8222SNP.txt\"\n",
    "\n",
    "# Column headers used within the fromated hapmap\n",
    "COLHEADERS = ['rs#','alleles','chrom','pos','strand','assembly#','center', 'protLSID', 'assayLSID', 'panelLSID', 'QCcode']\n",
    "\n",
    "# Column headers for none SNP columns used in the RAWHAP\n",
    "SUMMARYHEADERS = ['Index', 'Name', '# Clusters']"
   ]
  },
  {
   "cell_type": "code",
   "execution_count": 26,
   "metadata": {},
   "outputs": [],
   "source": [
    "# Load in the relevant data\n",
    "raw_hap_df = pd.read_csv(RAWHAP, sep='\\t')\n",
    "summary_90k_df = pd.read_csv(SUMMARY90K, sep='\\t')"
   ]
  },
  {
   "cell_type": "code",
   "execution_count": 27,
   "metadata": {},
   "outputs": [],
   "source": [
    "# Splits other column into distinct columns and does a touch of trimming\n",
    "summary_90k_df[['ID', 'Name', 'coverage', 'identity']] = summary_90k_df['other'].str.split(';',expand=True) \n",
    "summary_90k_df['chrom'] = summary_90k_df['chrom'].map(lambda x: \"\".join(filter(str.isdigit, x)))\n",
    "summary_90k_df['ID'] = summary_90k_df['ID'].map(lambda x: x.replace('ID=', ''))\n",
    "summary_90k_df['Name'] = summary_90k_df['Name'].map(lambda x: x.replace('Name=', ''))\n",
    "summary_90k_df['coverage'] = summary_90k_df['coverage'].map(lambda x: x.replace('coverage=', ''))\n",
    "summary_90k_df['identity'] = summary_90k_df['identity'].map(lambda x: x.replace('identity=', ''))"
   ]
  },
  {
   "cell_type": "code",
   "execution_count": 28,
   "metadata": {},
   "outputs": [],
   "source": [
    "# Generates allele options in format required for hapmap by finding all unique bases in row\n",
    "# Slaps alleles in dataframe alleles_df\n",
    "index_col = SUMMARYHEADERS[1]   # Index of SNP name\n",
    "alleles = []\n",
    "\n",
    "\n",
    "alleles_df = pd.DataFrame(raw_hap_df[index_col])\n",
    "rawhap_allele_data_df = raw_hap_df.loc[:, ~raw_hap_df.columns.isin(SUMMARYHEADERS)] # removes all none SNP columns\n",
    "rawhap_allele_data_list = rawhap_allele_data_df.values.tolist()\n",
    "\n",
    "for row in rawhap_allele_data_list:\n",
    "    alleles.append(\"/\".join(set(''.join(row).replace('-', '')))) \n",
    "alleles_df['alleles'] = alleles\n",
    "\n",
    "# Removes entries where SNP polymorpisms cannot be found, ie rows with all '--' for SNPS  \n",
    "alleles_df['alleles'].replace('', np.nan, inplace=True)\n",
    "alleles_df.dropna(subset=['alleles'], inplace=True)"
   ]
  },
  {
   "cell_type": "code",
   "execution_count": 30,
   "metadata": {},
   "outputs": [],
   "source": [
    "# Generate new hapmap file\n",
    "\n",
    "\n",
    "gen_hap_df = pd.DataFrame()\n",
    "# For rs#\n",
    "gen_hap_df[COLHEADERS[0]] = raw_hap_df['Name']\n",
    "# For alleles\n",
    "gen_hap_df = gen_hap_df.merge(alleles_df, left_on='rs#', right_on='Name')[COLHEADERS[0:2]]\n",
    "\n",
    "summary_gen_merge_df = gen_hap_df.merge(summary_90k_df, how=\"left\", left_on='rs#', right_on='Name') # ASSUMPTION: When creating this merge, I assume that the first common \"rs#\" <-> \"Name\" found for each row is used, as \"Name\" is not unique in summary_90k_df\n",
    "# For chrom\n",
    "gen_hap_df[COLHEADERS[2]] = summary_gen_merge_df[COLHEADERS[2]]\n",
    "# Removes unknown chromosomes\n",
    "gen_hap_df[COLHEADERS[2]].replace('', np.nan, inplace=True)\n",
    "gen_hap_df.dropna(inplace=True)\n",
    "\n",
    "# For pos\n",
    "gen_hap_df[COLHEADERS[3]] = summary_gen_merge_df['pos1'] # Magic value 'pos1' comes from a email suggestion that this column contained relevant position info\n",
    "gen_hap_df[COLHEADERS[3]] = gen_hap_df[COLHEADERS[3]].astype(int)\n",
    "# For strand\n",
    "gen_hap_df[COLHEADERS[4]] = summary_gen_merge_df[COLHEADERS[4]]  \n",
    "# For other columns not relevant to goal hapmap\n",
    "gen_hap_df[COLHEADERS[5:len(COLHEADERS)]] = 'NA'\n",
    "\n",
    "# For snp data\n",
    "gen_hap_df = gen_hap_df.merge(raw_hap_df, left_on='rs#', right_on='Name')\n",
    "\n",
    "gen_hap_df.drop(['Name', 'Index', '# Clusters'], axis=1, inplace=True)"
   ]
  },
  {
   "cell_type": "code",
   "execution_count": 31,
   "metadata": {},
   "outputs": [],
   "source": [
    "# Apparently, Hapmaps need to be sorted (ascending) by position \n",
    "gen_hap_df = gen_hap_df.sort_values(by=[COLHEADERS[3]])\n",
    "\n",
    "# Export formatted dataframe to tab seperated csv\n",
    "gen_hap_df.to_csv(OUTPUT, sep='\\t',  index=False)\n",
    "\n",
    "# After saving 8222SNP data to hapmap, 2 entries (NTC NTC.1) \n",
    "# The end product of this pipeline was used in Tassel 5 without error (you may need to sort by position in tassel 5)"
   ]
  }
 ],
 "metadata": {
  "interpreter": {
   "hash": "1ba9ac630c9f2dd3511fdfeda2d56f08e3335139f33aea9e4eda54962c7821d0"
  },
  "kernelspec": {
   "display_name": "Python 3.7.11 64-bit ('thesis_env': conda)",
   "name": "python3"
  },
  "language_info": {
   "codemirror_mode": {
    "name": "ipython",
    "version": 3
   },
   "file_extension": ".py",
   "mimetype": "text/x-python",
   "name": "python",
   "nbconvert_exporter": "python",
   "pygments_lexer": "ipython3",
   "version": "3.7.11"
  }
 },
 "nbformat": 4,
 "nbformat_minor": 2
}
