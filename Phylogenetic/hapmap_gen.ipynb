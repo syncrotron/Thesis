{
 "cells": [
  {
   "cell_type": "markdown",
   "metadata": {},
   "source": [
    "# Hapmap Generator\n",
    "## By Samuel Horovatin, s.horovatin@usask.ca\n",
    "\n",
    "A simplistic hapmap generator. Follows the format outlined here: http://augustogarcia.me/statgen-esalq/Hapmap-and-VCF-formats-and-its-integration-with-onemap/"
   ]
  },
  {
   "cell_type": "code",
   "execution_count": 1,
   "metadata": {},
   "outputs": [],
   "source": [
    "import os, sys\n",
    "import pandas as pd\n",
    "import numpy as np\n",
    "\n",
    "# Change to path of unprocessed hapmap. Format should be: Index, Name, Traits.....\n",
    "RAWHAP = \"./hapmaps/wheat_hapmap_new.txt\"\n",
    "\n",
    "# Change to path of 90K summary. Found mine at: :https://urgi.versailles.inra.fr/download/iwgsc/IWGSC_RefSeq_Annotations/v1.0/, zip file: iwgsc_refseqv1.0_Marker_mapping_summary_2017Mar13/infinium90K.summary.gff)\n",
    "# Made a slight edit to the raw summary to add headers (chrom\t1\t2\tpos1\tpos2\t3\tstrand\t4\tother)\n",
    "SUMMARY90K = \"./hapmaps/infinium90K.summary.gff\"\n",
    "\n",
    "# Change to output file location/name\n",
    "OUTPUT = \"./hapmaps/wheat_hapmap_gen.txt\"\n",
    "\n",
    "# Column headers used within the fromated hapmap\n",
    "COLHEADERS = ['rs#','alleles','chrom','pos','strand','assembly#','center', 'protLSID', 'assayLSID', 'panelLSID', 'QCcode']\n",
    "\n",
    "# Column headers for none SNP columns used in the RAWHAP\n",
    "SUMMARYHEADERS = ['Index', 'Name']"
   ]
  },
  {
   "cell_type": "code",
   "execution_count": 2,
   "metadata": {},
   "outputs": [],
   "source": [
    "# Load in the relevant data\n",
    "raw_hap_df = pd.read_csv(RAWHAP, sep='\\t')\n",
    "summary_90k_df = pd.read_csv(SUMMARY90K, sep='\\t')"
   ]
  },
  {
   "cell_type": "code",
   "execution_count": 3,
   "metadata": {},
   "outputs": [],
   "source": [
    "# Splits other column into distinct columns and does a touch of trimming\n",
    "summary_90k_df[['ID', 'Name', 'coverage', 'identity']] = summary_90k_df['other'].str.split(';',expand=True) \n",
    "summary_90k_df['chrom'] = summary_90k_df['chrom'].map(lambda x: \"\".join(filter(str.isdigit, x)))\n",
    "summary_90k_df['ID'] = summary_90k_df['ID'].map(lambda x: x.replace('ID=', ''))\n",
    "summary_90k_df['Name'] = summary_90k_df['Name'].map(lambda x: x.replace('Name=', ''))\n",
    "summary_90k_df['coverage'] = summary_90k_df['coverage'].map(lambda x: x.replace('coverage=', ''))\n",
    "summary_90k_df['identity'] = summary_90k_df['identity'].map(lambda x: x.replace('identity=', ''))"
   ]
  },
  {
   "cell_type": "code",
   "execution_count": 4,
   "metadata": {},
   "outputs": [
    {
     "name": "stdout",
     "output_type": "stream",
     "text": [
      "                             Name alleles\n",
      "0                   BS00011231_51     A/G\n",
      "1                   BS00030571_51     A/G\n",
      "2                   BS00033750_51     G/A\n",
      "3                   Ex_c6145_2193     A/G\n",
      "4             Excalibur_c3948_235       G\n",
      "...                           ...     ...\n",
      "7349  wsnp_RFL_Contig4207_4836784     G/A\n",
      "7350                     IACX6482     T/A\n",
      "7351                     IACX3386     T/A\n",
      "7352                     IAAV5266     T/A\n",
      "7353                     IACX6176     T/A\n",
      "\n",
      "[7354 rows x 2 columns]\n"
     ]
    }
   ],
   "source": [
    "# Generates allele options in format required for hapmap by finding all unique bases in row\n",
    "# Slaps alleles in dataframe alleles_df\n",
    "index_col = SUMMARYHEADERS[1]\n",
    "alleles = []\n",
    "\n",
    "\n",
    "alleles_df = pd.DataFrame(raw_hap_df[index_col])\n",
    "rawhap_allele_data_df = raw_hap_df.loc[:, ~raw_hap_df.columns.isin(SUMMARYHEADERS)] # removes all none SNP columns\n",
    "rawhap_allele_data_list = rawhap_allele_data_df.values.tolist()\n",
    "\n",
    "for row in rawhap_allele_data_list:\n",
    "    alleles.append(\"/\".join(set(''.join(row).replace('-', '')))) \n",
    "alleles_df['alleles'] = alleles"
   ]
  },
  {
   "cell_type": "code",
   "execution_count": 5,
   "metadata": {},
   "outputs": [],
   "source": [
    "# Generate new hapmap file\n",
    "\n",
    "\n",
    "gen_hap_df = pd.DataFrame()\n",
    "# For rs#\n",
    "gen_hap_df[COLHEADERS[0]] = raw_hap_df['Name']\n",
    "# For alleles\n",
    "gen_hap_df = gen_hap_df.merge(alleles_df, left_on='rs#', right_on='Name')[COLHEADERS[0:2]]\n",
    "\n",
    "summary_gen_merge_df = gen_hap_df.merge(summary_90k_df, how=\"left\", left_on='rs#', right_on='Name') # ASSUMPTION: When creating this merge, I assume that the first common \"rs#\" <-> \"Name\" found for each row is used, as \"Name\" is not unique in summary_90k_df\n",
    "# For chrom\n",
    "gen_hap_df[COLHEADERS[2]] = summary_gen_merge_df[COLHEADERS[2]]\n",
    "# Removes unknown chromosomes\n",
    "gen_hap_df[COLHEADERS[2]].replace('', np.nan, inplace=True)\n",
    "gen_hap_df.dropna(inplace=True)\n",
    "\n",
    "# For pos\n",
    "gen_hap_df[COLHEADERS[3]] = summary_gen_merge_df['pos1'] # Magic value 'pos1' comes from a email suggestion that this column contained relevant position info\n",
    "gen_hap_df[COLHEADERS[3]] = gen_hap_df[COLHEADERS[3]].astype(int)\n",
    "# For strand\n",
    "gen_hap_df[COLHEADERS[4]] = summary_gen_merge_df[COLHEADERS[4]]  \n",
    "# For other columns not relevant to goal hapmap\n",
    "gen_hap_df[COLHEADERS[5:len(COLHEADERS)]] = 'NA'\n",
    "\n",
    "# For snip data\n",
    "gen_hap_df = gen_hap_df.merge(raw_hap_df, left_on='rs#', right_on='Name')\n",
    "\n",
    "gen_hap_df.drop(['Name', 'Index'], axis=1, inplace=True)\n",
    "\n",
    "\n"
   ]
  },
  {
   "cell_type": "code",
   "execution_count": 11,
   "metadata": {},
   "outputs": [],
   "source": [
    "# Apparently, Hapmaps need to be sorted (ascending) by position \n",
    "gen_hap_df = gen_hap_df.sort_values(by=[COLHEADERS[3]])\n",
    "\n",
    "# Export formatted dataframe to tab seperated csv\n",
    "gen_hap_df.to_csv(OUTPUT, sep='\\t',  index=False)\n",
    "\n",
    "# The end product of this pipeline was used in Tassel 5 without error (you may need to sort by position in tassel 5)"
   ]
  },
  {
   "cell_type": "code",
   "execution_count": 9,
   "metadata": {},
   "outputs": [
    {
     "name": "stdout",
     "output_type": "stream",
     "text": [
      "                              rs# alleles chrom        pos strand assembly#  \\\n",
      "0                   BS00011231_51     A/G     3  685357846      +        NA   \n",
      "1                   BS00030571_51     A/G     4  602404417      +        NA   \n",
      "2                   Ex_c6145_2193     A/G     1   12534470      -        NA   \n",
      "3             Excalibur_c3948_235       G     5   26791983      -        NA   \n",
      "4           wsnp_JD_c1845_2564931     C/A     5   19439818      -        NA   \n",
      "...                           ...     ...   ...        ...    ...       ...   \n",
      "6760  wsnp_RFL_Contig4207_4836784     G/A     4  539758053      +        NA   \n",
      "6761                     IACX6482     T/A     1  443197960      +        NA   \n",
      "6762                     IACX3386     T/A     2  637197111      -        NA   \n",
      "6763                     IAAV5266     T/A     2  576695900      -        NA   \n",
      "6764                     IACX6176     T/A     2  491951726      -        NA   \n",
      "\n",
      "     center protLSID assayLSID panelLSID  ... CN116956 CN116960 CN116993  \\\n",
      "0        NA       NA        NA        NA  ...       AA       AA       AA   \n",
      "1        NA       NA        NA        NA  ...       AA       AA       AA   \n",
      "2        NA       NA        NA        NA  ...       --       AA       AA   \n",
      "3        NA       NA        NA        NA  ...       GG       --       --   \n",
      "4        NA       NA        NA        NA  ...       AA       CC       AA   \n",
      "...     ...      ...       ...       ...  ...      ...      ...      ...   \n",
      "6760     NA       NA        NA        NA  ...       GG       GG       GG   \n",
      "6761     NA       NA        NA        NA  ...       --       TT       TT   \n",
      "6762     NA       NA        NA        NA  ...       AT       AT       TT   \n",
      "6763     NA       NA        NA        NA  ...       TT       TT       TT   \n",
      "6764     NA       NA        NA        NA  ...       TT       TT       TT   \n",
      "\n",
      "     CN116997 CN117027 CN117133 CN117182 CN117194 CN117205 CN117206  \n",
      "0          AA       AA       AA       AA       --       AG       AA  \n",
      "1          AA       AA       AA       AA       AA       AA       AA  \n",
      "2          AA       AG       AA       --       AG       --       --  \n",
      "3          --       GG       GG       GG       --       GG       GG  \n",
      "4          AA       AA       CC       AA       --       AC       CC  \n",
      "...       ...      ...      ...      ...      ...      ...      ...  \n",
      "6760       GG       AG       GG       AG       GG       GG       GG  \n",
      "6761       TT       TT       TT       --       --       --       TT  \n",
      "6762       TT       TT       AT       AT       TT       TT       TT  \n",
      "6763       TT       TT       TT       TT       AT       --       TT  \n",
      "6764       TT       TT       TT       TT       TT       TT       TT  \n",
      "\n",
      "[6765 rows x 415 columns]\n",
      "                           rs# alleles chrom        pos strand assembly#  \\\n",
      "1333             Ex_c6665_1067     A/G     7      47625      +        NA   \n",
      "377     Tdurum_contig10107_580     A/G     7     115678      -        NA   \n",
      "3825             BS00011060_51     G/A     6     168657      +        NA   \n",
      "4856    Tdurum_contig76013_605     C/A     6     287609      +        NA   \n",
      "4245        Excalibur_c981_294     G/A     6     287686      -        NA   \n",
      "...                        ...     ...   ...        ...    ...       ...   \n",
      "3291  Excalibur_rep_c66982_126     A/G     3  822682082      -        NA   \n",
      "6508   Tdurum_contig59440_1621     G/A     3  822825341      -        NA   \n",
      "6708   wsnp_JD_c47318_32176833     G/A     3  822970171      +        NA   \n",
      "5457       RFL_Contig5709_3312     A/G     3  824637317      -        NA   \n",
      "1998   wsnp_CAP7_c5823_2616381     A/G     3  829197896      -        NA   \n",
      "\n",
      "     center protLSID assayLSID panelLSID  ... CN116956 CN116960 CN116993  \\\n",
      "1333     NA       NA        NA        NA  ...       AA       AG       AA   \n",
      "377      NA       NA        NA        NA  ...       AA       AG       AA   \n",
      "3825     NA       NA        NA        NA  ...       GG       GG       AG   \n",
      "4856     NA       NA        NA        NA  ...       CC       CC       CC   \n",
      "4245     NA       NA        NA        NA  ...       GG       AG       AG   \n",
      "...     ...      ...       ...       ...  ...      ...      ...      ...   \n",
      "3291     NA       NA        NA        NA  ...       AA       AA       GG   \n",
      "6508     NA       NA        NA        NA  ...       GG       GG       GG   \n",
      "6708     NA       NA        NA        NA  ...       GG       GG       GG   \n",
      "5457     NA       NA        NA        NA  ...       GG       GG       AG   \n",
      "1998     NA       NA        NA        NA  ...       AA       AA       AA   \n",
      "\n",
      "     CN116997 CN117027 CN117133 CN117182 CN117194 CN117205 CN117206  \n",
      "1333       AA       AA       AG       AA       AA       AA       AA  \n",
      "377        AA       AA       AG       AG       AG       --       AA  \n",
      "3825       AG       AG       GG       GG       AG       GG       GG  \n",
      "4856       CC       CC       CC       CC       CC       CC       CC  \n",
      "4245       AG       AG       AG       AG       AG       AG       AG  \n",
      "...       ...      ...      ...      ...      ...      ...      ...  \n",
      "3291       AA       AA       AA       AA       --       AG       --  \n",
      "6508       GG       GG       GG       GG       GG       GG       GG  \n",
      "6708       GG       GG       GG       GG       AG       GG       GG  \n",
      "5457       AG       AG       GG       AG       AG       AG       AG  \n",
      "1998       AA       --       AA       AA       AA       AA       AA  \n",
      "\n",
      "[6765 rows x 415 columns]\n"
     ]
    }
   ],
   "source": []
  },
  {
   "cell_type": "code",
   "execution_count": null,
   "metadata": {},
   "outputs": [],
   "source": []
  }
 ],
 "metadata": {
  "interpreter": {
   "hash": "1ba9ac630c9f2dd3511fdfeda2d56f08e3335139f33aea9e4eda54962c7821d0"
  },
  "kernelspec": {
   "display_name": "Python 3 (ipykernel)",
   "language": "python",
   "name": "python3"
  },
  "language_info": {
   "codemirror_mode": {
    "name": "ipython",
    "version": 3
   },
   "file_extension": ".py",
   "mimetype": "text/x-python",
   "name": "python",
   "nbconvert_exporter": "python",
   "pygments_lexer": "ipython3",
   "version": "3.7.11"
  }
 },
 "nbformat": 4,
 "nbformat_minor": 2
}
