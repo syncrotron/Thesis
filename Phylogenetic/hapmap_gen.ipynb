{
 "cells": [
  {
   "cell_type": "markdown",
   "metadata": {},
   "source": [
    "# Hapmap Generator\n",
    "## By Samuel Horovatin, s.horovatin@usask.ca\n",
    "\n",
    "A simplistic hapmap generator. Follows the format outlined here: http://augustogarcia.me/statgen-esalq/Hapmap-and-VCF-formats-and-its-integration-with-onemap/"
   ]
  },
  {
   "cell_type": "code",
   "execution_count": 30,
   "metadata": {},
   "outputs": [],
   "source": [
    "import os, sys\n",
    "import pandas as pd\n",
    "import numpy\n",
    "\n",
    "# Change to path of unprocessed hapmap. Format should be: Index, Name, Traits.....\n",
    "RAWHAP = \"./hapmaps/wheat_hapmap_new.txt\"\n",
    "\n",
    "# Change to path of 90K summary. Found mine at: :https://urgi.versailles.inra.fr/download/iwgsc/IWGSC_RefSeq_Annotations/v1.0/, zip file: iwgsc_refseqv1.0_Marker_mapping_summary_2017Mar13/infinium90K.summary.gff)\n",
    "# Made a slight edit to the raw summary to add headers (chrom\t1\t2\tpos1\tpos2\t3\tstrand\t4\tother)\n",
    "SUMMARY90K = \"./hapmaps/infinium90K.summary.gff\"\n",
    "\n",
    "# Change to output file location/name\n",
    "OUTPUT = \"./hapmaps/wheat_hapmap_gen.txt\"\n",
    "\n",
    "# Column headers used within the fromated hapmap\n",
    "COLHEADERS = ['rs#','alleles','chrom','pos','strand','assembly#','center', 'protLSID', 'assayLSID', 'panelLSID', 'QCcode']\n",
    "\n",
    "# Column headers for none SNP columns used in the RAWHAP\n",
    "SUMMARYHEADERS = ['Index', 'Name']"
   ]
  },
  {
   "cell_type": "code",
   "execution_count": 31,
   "metadata": {},
   "outputs": [],
   "source": [
    "# Load in the relevant data\n",
    "raw_hap_df = pd.read_csv(RAWHAP, sep='\\t')\n",
    "summary_90k_df = pd.read_csv(SUMMARY90K, sep='\\t')"
   ]
  },
  {
   "cell_type": "code",
   "execution_count": 32,
   "metadata": {},
   "outputs": [],
   "source": [
    "# Splits other column into distinct columns and does a touch of trimming\n",
    "summary_90k_df[['ID', 'Name', 'coverage', 'identity']] = summary_90k_df['other'].str.split(';',expand=True) \n",
    "summary_90k_df['chrom'] = summary_90k_df['chrom'].map(lambda x: x.replace('chr', ''))\n",
    "summary_90k_df['ID'] = summary_90k_df['ID'].map(lambda x: x.replace('ID=', ''))\n",
    "summary_90k_df['Name'] = summary_90k_df['Name'].map(lambda x: x.replace('Name=', ''))\n",
    "summary_90k_df['coverage'] = summary_90k_df['coverage'].map(lambda x: x.replace('coverage=', ''))\n",
    "summary_90k_df['identity'] = summary_90k_df['identity'].map(lambda x: x.replace('identity=', ''))"
   ]
  },
  {
   "cell_type": "code",
   "execution_count": 46,
   "metadata": {},
   "outputs": [
    {
     "name": "stdout",
     "output_type": "stream",
     "text": [
      "                             Name alleles\n",
      "0                   BS00011231_51     A/G\n",
      "1                   BS00030571_51     A/G\n",
      "2                   BS00033750_51     A/G\n",
      "3                   Ex_c6145_2193     A/G\n",
      "4             Excalibur_c3948_235       G\n",
      "...                           ...     ...\n",
      "7349  wsnp_RFL_Contig4207_4836784     A/G\n",
      "7350                     IACX6482     A/T\n",
      "7351                     IACX3386     A/T\n",
      "7352                     IAAV5266     A/T\n",
      "7353                     IACX6176     A/T\n",
      "\n",
      "[7354 rows x 2 columns]\n"
     ]
    }
   ],
   "source": [
    "def Allele_Gen(df, col_headers, index):\n",
    "    \n",
    "    df_alleles = pd.DataFrame(df[index])\n",
    "    df_data = df.loc[:, ~df.columns.isin(col_headers)] # removes all none SNP columns\n",
    "    df_data_list = df_data.values.tolist()\n",
    "    alleles = []\n",
    "    for row in df_data_list:\n",
    "        alleles.append(\"/\".join(set(''.join(row).replace('-', '')))) \n",
    "    df_alleles['alleles'] = alleles\n",
    "    return pd.DataFrame(df_alleles)\n",
    "    \n",
    "print(Allele_Gen(raw_hap_df, SUMMARYHEADERS, 'Name'))"
   ]
  },
  {
   "cell_type": "code",
   "execution_count": null,
   "metadata": {},
   "outputs": [],
   "source": [
    "# \n",
    "gen_hap_df = pd.DataFrame(columns=COLHEADERS)\n",
    "gen_hap_df['rs#'] = gen_hap_df['Name']\n",
    "\n"
   ]
  }
 ],
 "metadata": {
  "kernelspec": {
   "display_name": "Python (test)",
   "language": "python",
   "name": "test"
  },
  "language_info": {
   "codemirror_mode": {
    "name": "ipython",
    "version": 3
   },
   "file_extension": ".py",
   "mimetype": "text/x-python",
   "name": "python",
   "nbconvert_exporter": "python",
   "pygments_lexer": "ipython3",
   "version": "3.7.11"
  }
 },
 "nbformat": 4,
 "nbformat_minor": 2
}
