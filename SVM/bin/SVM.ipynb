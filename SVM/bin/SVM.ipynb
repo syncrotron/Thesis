{
 "cells": [
  {
   "cell_type": "code",
   "execution_count": 8,
   "id": "7410e717",
   "metadata": {},
   "outputs": [],
   "source": [
    "import pandas as pd\n",
    "import os\n",
    "from skimage.transform import resize\n",
    "from skimage.io import imread\n",
    "import numpy as np\n",
    "import matplotlib.pyplot as plt"
   ]
  },
  {
   "cell_type": "code",
   "execution_count": 9,
   "id": "d0a3a3bf",
   "metadata": {},
   "outputs": [],
   "source": [
    "Categories_Durum=['CFP-CK1','CFP-CK2'] # [Infected, Healthy]\n",
    "Categories_Bread=['CFP-CK3','CFP-CK4'] # [Infected, Healthy]\n",
    "Categories_Complete=['CFP-CK1','CFP-CK3','CFP-CK2','CFP-CK4']  # [Infected, Infected, Healthy, Healthy]\n",
    "Test_Categories_Bread=['CFP-B179', 'CFP-B223'] # 39/103 or 37.8% infected; 21/105 or 20% infected\n",
    "\n",
    "datadir='/student/sch923/Thesis/data/test_wheat_2021/Wheat/TestSamples' \n",
    "#path which contains all the categories of images"
   ]
  },
  {
   "cell_type": "code",
   "execution_count": 10,
   "id": "de99f835",
   "metadata": {},
   "outputs": [
    {
     "output_type": "stream",
     "name": "stdout",
     "text": [
      "loading... category : CFP-CK1\n",
      "loaded category: CFP-CK1 successfully, found 43 images\n",
      "loading... category : CFP-CK2\n",
      "loaded category: CFP-CK2 successfully, found 48 images\n",
      "loading... category : CFP-CK3\n",
      "loaded category: CFP-CK3 successfully, found 24 images\n",
      "loading... category : CFP-CK4\n",
      "loaded category: CFP-CK4 successfully, found 31 images\n"
     ]
    }
   ],
   "source": [
    "flat_arr, target_arr=[],[]\n",
    "\n",
    "# creating species specific data sets\n",
    "Cat_Durum_Bread = [Categories_Durum,Categories_Bread]\n",
    "for Categories in Cat_Durum_Bread:\n",
    "    flat_arr.append(list())\n",
    "    target_arr.append(list())\n",
    "    for i in Categories:\n",
    "        print(f'loading... category : {i}')    \n",
    "        path=os.path.join(datadir,i) \n",
    "        image_count = 0\n",
    "        for img in os.listdir(path):  \n",
    "            img_array=imread(os.path.join(path,img))\n",
    "            img_resized=resize(img_array,(150,150,3))  \n",
    "            flat_arr[len(flat_arr)-1].append(img_resized.flatten())      \n",
    "            target_arr[len(flat_arr)-1].append(Categories.index(i))\n",
    "            image_count += 1\n",
    "        print(f'loaded category: {i} successfully, found {image_count} images')"
   ]
  },
  {
   "cell_type": "code",
   "execution_count": 11,
   "id": "fcc2209a",
   "metadata": {},
   "outputs": [
    {
     "output_type": "stream",
     "name": "stdout",
     "text": [
      "loading... category : CFP-CK1\n",
      "loaded category: CFP-CK1 successfully, found 43 images\n",
      "loading... category : CFP-CK3\n",
      "loaded category: CFP-CK3 successfully, found 24 images\n",
      "loading... category : CFP-CK2\n",
      "loaded category: CFP-CK2 successfully, found 48 images\n",
      "loading... category : CFP-CK4\n",
      "loaded category: CFP-CK4 successfully, found 31 images\n"
     ]
    }
   ],
   "source": [
    "flat_arr_Complete, target_arr_Complete=[], []\n",
    "\n",
    "index_corrector = lambda index : 0 if index<2 else 1 # Lambda function for correcting infected/healthy index (dependent on order folder names in Categories_Complete, ie [infected, healthy])\n",
    "\n",
    "# creating complete (both species) data set\n",
    "for i in Categories_Complete:\n",
    "    print(f'loading... category : {i}')    \n",
    "    path=os.path.join(datadir,i) \n",
    "    image_count = 0\n",
    "    for img in os.listdir(path):        \n",
    "        img_array=imread(os.path.join(path,img))\n",
    "        img_resized=resize(img_array,(150,150,3))  \n",
    "        flat_arr_Complete.append(img_resized.flatten())      \n",
    "        target_arr_Complete.append(index_corrector(Categories_Complete.index(i)))\n",
    "        image_count += 1\n",
    "    print(f'loaded category: {i} successfully, found {image_count} images')"
   ]
  },
  {
   "cell_type": "code",
   "execution_count": 12,
   "id": "1898f2d8",
   "metadata": {},
   "outputs": [
    {
     "output_type": "stream",
     "name": "stdout",
     "text": [
      "loading... category : CFP-B179\n",
      "loaded category: CFP-B179 successfully, found 103 images\n",
      "loading... category : CFP-B223\n",
      "loaded category: CFP-B223 successfully, found 96 images\n"
     ]
    }
   ],
   "source": [
    "flat_arr_test=[] # No need for target_arr_test as the exact health per picture is not known\n",
    "\n",
    "# creating test set with mixed data\n",
    "for i in Test_Categories_Bread:\n",
    "    print(f'loading... category : {i}')    \n",
    "    path=os.path.join(datadir,i) \n",
    "    image_count = 0\n",
    "    for img in os.listdir(path):        \n",
    "        img_array=imread(os.path.join(path,img))\n",
    "        img_resized=resize(img_array,(150,150,3))  \n",
    "        flat_arr_test.append(img_resized.flatten())      \n",
    "        image_count += 1\n",
    "    print(f'loaded category: {i} successfully, found {image_count} images')\n"
   ]
  },
  {
   "cell_type": "code",
   "execution_count": 13,
   "id": "732cc464",
   "metadata": {},
   "outputs": [],
   "source": [
    "# Data wrapper transformation for species specific data\n",
    "list_arr_fun = lambda l : np.array(l)\n",
    "\n",
    "flat_data=list(map(list_arr_fun, flat_arr))\n",
    "target=list(map(list_arr_fun, target_arr))\n",
    "\n",
    "df_Durum=pd.DataFrame(flat_data[0])\n",
    "df_Bread=pd.DataFrame(flat_data[1])\n",
    "df_Durum['Target']=target[0]\n",
    "df_Bread['Target']=target[1]\n",
    "\n",
    "x_Durum=df_Durum.iloc[:,:-1] #input data \n",
    "y_Durum=df_Durum.iloc[:,-1] #output data\n",
    "\n",
    "x_Bread=df_Bread.iloc[:,:-1] #input data \n",
    "y_Bread=df_Bread.iloc[:,-1] #output data"
   ]
  },
  {
   "cell_type": "code",
   "execution_count": 14,
   "id": "5845dbc1",
   "metadata": {},
   "outputs": [],
   "source": [
    "# Data wrapper transformation for complete data\n",
    "\n",
    "flat_data_Complete=np.array(flat_arr_Complete)\n",
    "target_Complete=np.array(target_arr_Complete)\n",
    "df_Complete=pd.DataFrame(flat_data_Complete) #dataframe\n",
    "df_Complete['Target']=target_Complete\n",
    "x_Complete=df_Complete.iloc[:,:-1] #input data \n",
    "y_Complete=df_Complete.iloc[:,-1] #output data"
   ]
  },
  {
   "cell_type": "code",
   "execution_count": 15,
   "id": "4af38c92",
   "metadata": {},
   "outputs": [],
   "source": [
    "# Data wrapper transformation for test data\n",
    "# No output data is included as we do not have image specific classifications\n",
    "\n",
    "flat_data_test=np.array(flat_arr_test)\n",
    "df_test=pd.DataFrame(flat_data_test) #dataframe\n",
    "x_test=df_test.iloc[:,:-1] #input data "
   ]
  },
  {
   "cell_type": "code",
   "execution_count": 16,
   "id": "d7956dfb",
   "metadata": {},
   "outputs": [],
   "source": [
    "from sklearn import svm\n",
    "from sklearn.model_selection import GridSearchCV\n",
    "param_grid={'C':[0.1,1,10,100],'gamma':[0.0001,0.001,0.1,1],'kernel':['rbf','poly']}\n",
    "svc=svm.SVC(probability=True)\n",
    "model_Durum=GridSearchCV(svm.SVC(probability=True),param_grid)\n",
    "model_Bread=GridSearchCV(svm.SVC(probability=True),param_grid)\n",
    "model_Complete=GridSearchCV(svm.SVC(probability=True),param_grid)\n",
    "# model.best_params_ contains the best parameters obtained from GridSearchCV"
   ]
  },
  {
   "cell_type": "code",
   "execution_count": 17,
   "id": "82eba838",
   "metadata": {},
   "outputs": [
    {
     "output_type": "stream",
     "name": "stdout",
     "text": [
      "Durum Splitted Successfully\nBread Splitted Successfully\nComplete Splitted Successfully\n"
     ]
    }
   ],
   "source": [
    "from sklearn.model_selection import train_test_split\n",
    "import time\n",
    "\n",
    "x_train_Durum,x_test_Durum,y_train_Durum,y_test_Durum=train_test_split(x_Durum,y_Durum,test_size=0.20,random_state=77,stratify=y_Durum)\n",
    "print('Durum Splitted Successfully')\n",
    "x_train_Bread,x_test_Bread,y_train_Bread,y_test_Bread=train_test_split(x_Bread,y_Bread,test_size=0.20,random_state=77,stratify=y_Bread)\n",
    "print('Bread Splitted Successfully')\n",
    "x_train_Complete,x_test_Complete,y_train_Complete,y_test_Complete=train_test_split(x_Complete,y_Complete,test_size=0.20,random_state=77,stratify=y_Complete)\n",
    "print('Complete Splitted Successfully')"
   ]
  },
  {
   "cell_type": "code",
   "execution_count": 18,
   "id": "062e5ce8",
   "metadata": {},
   "outputs": [
    {
     "output_type": "stream",
     "name": "stdout",
     "text": [
      "Starting to train Durum model...\n",
      "The Durum model trained in: 00:02:28.21\n",
      "Starting to train Bread model...\n",
      "The Bread model trained in: 00:01:55.83\n",
      "Starting to train Complete model...\n",
      "The Complete model trained in: 00:03:26.74\n"
     ]
    }
   ],
   "source": [
    "print(\"Starting to train Durum model...\")\n",
    "start = time.time()\n",
    "model_Durum.fit(x_train_Durum,y_train_Durum)\n",
    "end = time.time()\n",
    "hours, rem = divmod(end-start, 3600)\n",
    "minutes, seconds = divmod(rem, 60)\n",
    "print(\"The Durum model trained in: {:0>2}:{:0>2}:{:05.2f}\".format(int(hours),int(minutes),seconds))\n",
    "\n",
    "print(\"Starting to train Bread model...\")\n",
    "start = time.time()\n",
    "model_Bread.fit(x_train_Bread,y_train_Bread)\n",
    "end = time.time()\n",
    "hours, rem = divmod(end-start, 3600)\n",
    "minutes, seconds = divmod(rem, 60)\n",
    "print(\"The Bread model trained in: {:0>2}:{:0>2}:{:05.2f}\".format(int(hours),int(minutes),seconds))\n",
    "\n",
    "print(\"Starting to train Complete model...\")\n",
    "start = time.time()\n",
    "model_Complete.fit(x_train_Complete,y_train_Complete)\n",
    "end = time.time()\n",
    "hours, rem = divmod(end-start, 3600)\n",
    "minutes, seconds = divmod(rem, 60)\n",
    "print(\"The Complete model trained in: {:0>2}:{:0>2}:{:05.2f}\".format(int(hours),int(minutes),seconds))\n"
   ]
  },
  {
   "cell_type": "code",
   "execution_count": 23,
   "id": "cfac126a",
   "metadata": {},
   "outputs": [],
   "source": [
    "from sklearn.metrics import accuracy_score\n",
    "\n",
    "y_pred_Durum_1=model_Durum.predict(x_test_Durum)\n",
    "y_pred_Durum_2=model_Durum.predict(x_test_Bread)\n",
    "y_pred_Durum_3=model_Durum.predict(x_test_Complete)\n",
    "# y_pred_Durum_4=model_Durum.predict(x_test)\n",
    "\n",
    "y_pred_Bread_1=model_Bread.predict(x_test_Bread)\n",
    "y_pred_Bread_2=model_Bread.predict(x_test_Durum)\n",
    "y_pred_Bread_3=model_Bread.predict(x_test_Complete)\n",
    "# y_pred_Bread_4=model_Bread.predict(x_test)\n",
    "\n",
    "y_pred_Complete_1=model_Complete.predict(x_test_Complete)\n",
    "y_pred_Complete_2=model_Complete.predict(x_test_Bread)\n",
    "y_pred_Complete_3=model_Complete.predict(x_test_Durum)\n",
    "# y_pred_Complete_4=model_Complete.predict(x_test)"
   ]
  },
  {
   "cell_type": "code",
   "execution_count": 29,
   "id": "3237c9ce",
   "metadata": {},
   "outputs": [
    {
     "output_type": "stream",
     "name": "stdout",
     "text": [
      "=========== DURUM TESTS ===========\n\nModel (Durum x Durum)\nThe predicted Data is :\n[1, 0, 1, 1, 0, 1, 1, 0, 1, 1, 1, 1, 0, 0, 0, 0, 0, 0, 1]\nThe actual data is:\n[1, 0, 1, 1, 0, 1, 1, 0, 1, 1, 1, 1, 0, 0, 0, 0, 0, 0, 1]\nThe Durum model on Durum Data is 100.0% accurate\n\nModel (Durum x Bread)\nThe predicted Data is :\n[0, 1, 1, 1, 0, 0, 0, 1, 1, 1, 1]\nThe actual data is:\n[0, 1, 1, 1, 0, 0, 0, 0, 1, 1, 1]\nThe Durum model on Bread Data is 90.9090909090909% accurate\n\nModel (Durum x Complete)\nThe predicted Data is :\n[1, 1, 0, 1, 1, 1, 0, 0, 0, 0, 1, 0, 1, 0, 0, 1, 1, 1, 0, 1, 1, 1, 1, 1, 0, 0, 1, 1, 0, 1]\nThe actual data is:\n[1, 1, 0, 1, 1, 1, 0, 0, 0, 0, 1, 0, 1, 0, 0, 1, 0, 0, 0, 1, 1, 1, 1, 1, 0, 0, 1, 1, 0, 1]\nThe Durum model on Complete Data is 93.33333333333333% accurate\n\n===================================\n\n=========== BREAD TESTS ===========\n\nModel (Bread x Bread)\nThe predicted Data is :\n[0, 1, 1, 1, 0, 0, 0, 0, 1, 1, 1]\nThe actual data is:\n[0, 1, 1, 1, 0, 0, 0, 0, 1, 1, 1]\nThe Bread model on Bread Data is 100.0% accurate\n\nModel (Bread x Durum)\nThe predicted Data is :\n[1, 1, 1, 1, 0, 0, 1, 1, 1, 1, 1, 1, 1, 0, 0, 0, 1, 0, 1]\nThe actual data is:\n[1, 0, 1, 1, 0, 1, 1, 0, 1, 1, 1, 1, 0, 0, 0, 0, 0, 0, 1]\nThe Bread model on Durum Data is 73.68421052631578% accurate\n\nModel (Bread x Complete)\nThe predicted Data is :\n[1, 1, 0, 1, 1, 1, 0, 0, 0, 0, 1, 0, 1, 0, 1, 1, 0, 0, 0, 1, 1, 1, 1, 1, 0, 1, 1, 1, 1, 1]\nThe actual data is:\n[1, 1, 0, 1, 1, 1, 0, 0, 0, 0, 1, 0, 1, 0, 0, 1, 0, 0, 0, 1, 1, 1, 1, 1, 0, 0, 1, 1, 0, 1]\nThe Bread model on Complete Data is 90.0% accurate\n\n===================================\n\n=========== COMPLETE TESTS ===========\n\nModel (Complete x Complete)\nThe predicted Data is :\n[1, 1, 0, 1, 1, 1, 0, 0, 0, 0, 1, 0, 1, 0, 0, 1, 0, 1, 0, 1, 1, 1, 1, 1, 0, 0, 1, 1, 1, 1]\nThe actual data is:\n[1, 1, 0, 1, 1, 1, 0, 0, 0, 0, 1, 0, 1, 0, 0, 1, 0, 0, 0, 1, 1, 1, 1, 1, 0, 0, 1, 1, 0, 1]\nThe Complete model on Complete Data is 93.33333333333333% accurate\n\nModel (Complete x Bread)\nThe predicted Data is :\n[0, 1, 1, 1, 0, 0, 0, 0, 1, 1, 1]\nThe actual data is:\n[0, 1, 1, 1, 0, 0, 0, 0, 1, 1, 1]\nThe Complete model on Bread Data is 100.0% accurate\n\nModel (Complete x Durum)\nThe predicted Data is :\n[1, 0, 1, 1, 0, 1, 1, 0, 1, 1, 1, 1, 0, 0, 0, 0, 1, 0, 1]\nThe actual data is:\n[1, 0, 1, 1, 0, 1, 1, 0, 1, 1, 1, 1, 0, 0, 0, 0, 0, 0, 1]\nThe Complete model on Durum Data is 94.73684210526315% accurate\n\n===================================\n\n"
     ]
    }
   ],
   "source": [
    "# Durum predictions\n",
    "print(\"=========== DURUM TESTS ===========\\n\")\n",
    "print(\"Model (Durum x Durum)\")\n",
    "print(\"The predicted Data is :\")\n",
    "print(y_pred_Durum_1.tolist())\n",
    "print(\"The actual data is:\")\n",
    "print(y_test_Durum.tolist())\n",
    "print(f\"The Durum model on Durum Data is {accuracy_score(y_pred_Durum_1,y_test_Durum)*100}% accurate\\n\")\n",
    "\n",
    "print(\"Model (Durum x Bread)\")\n",
    "print(\"The predicted Data is :\")\n",
    "print(y_pred_Durum_2.tolist())\n",
    "print(\"The actual data is:\")\n",
    "print(y_test_Bread.tolist())\n",
    "print(f\"The Durum model on Bread Data is {accuracy_score(y_pred_Durum_2,y_test_Bread)*100}% accurate\\n\")\n",
    "\n",
    "print(\"Model (Durum x Complete)\")\n",
    "print(\"The predicted Data is :\")\n",
    "print(y_pred_Durum_3.tolist())\n",
    "print(\"The actual data is:\")\n",
    "print(y_test_Complete.tolist())\n",
    "print(f\"The Durum model on Complete Data is {accuracy_score(y_pred_Durum_3,y_test_Complete)*100}% accurate\")\n",
    "print(\"\\n===================================\\n\")\n",
    "\n",
    "# Bread predictions\n",
    "print(\"=========== BREAD TESTS ===========\\n\")\n",
    "print(\"Model (Bread x Bread)\")\n",
    "print(\"The predicted Data is :\")\n",
    "print(y_pred_Bread_1.tolist())\n",
    "print(\"The actual data is:\")\n",
    "print(y_test_Bread.tolist())\n",
    "print(f\"The Bread model on Bread Data is {accuracy_score(y_pred_Bread_1,y_test_Bread)*100}% accurate\\n\")\n",
    "\n",
    "print(\"Model (Bread x Durum)\")\n",
    "print(\"The predicted Data is :\")\n",
    "print(y_pred_Bread_2.tolist())\n",
    "print(\"The actual data is:\")\n",
    "print(y_test_Durum.tolist())\n",
    "print(f\"The Bread model on Durum Data is {accuracy_score(y_pred_Bread_2,y_test_Durum)*100}% accurate\\n\")\n",
    "\n",
    "print(\"Model (Bread x Complete)\")\n",
    "print(\"The predicted Data is :\")\n",
    "print(y_pred_Bread_3.tolist())\n",
    "print(\"The actual data is:\")\n",
    "print(y_test_Complete.tolist())\n",
    "print(f\"The Bread model on Complete Data is {accuracy_score(y_pred_Bread_3,y_test_Complete)*100}% accurate\")\n",
    "print(\"\\n===================================\\n\")\n",
    "\n",
    "# Complete predictions\n",
    "print(\"=========== COMPLETE TESTS ===========\\n\")\n",
    "print(\"Model (Complete x Complete)\")\n",
    "print(\"The predicted Data is :\")\n",
    "print(y_pred_Complete_1.tolist())\n",
    "print(\"The actual data is:\")\n",
    "print(y_test_Complete.tolist())\n",
    "print(f\"The Complete model on Complete Data is {accuracy_score(y_pred_Complete_1,y_test_Complete)*100}% accurate\\n\")\n",
    "\n",
    "print(\"Model (Complete x Bread)\")\n",
    "print(\"The predicted Data is :\")\n",
    "print(y_pred_Complete_2.tolist())\n",
    "print(\"The actual data is:\")\n",
    "print(y_test_Bread.tolist())\n",
    "print(f\"The Complete model on Bread Data is {accuracy_score(y_pred_Complete_2,y_test_Bread)*100}% accurate\\n\")\n",
    "\n",
    "print(\"Model (Complete x Durum)\")\n",
    "print(\"The predicted Data is :\")\n",
    "print(y_pred_Complete_3.tolist())\n",
    "print(\"The actual data is:\")\n",
    "print(y_test_Durum.tolist())\n",
    "print(f\"The Complete model on Durum Data is {accuracy_score(y_pred_Complete_3,y_test_Durum)*100}% accurate\")\n",
    "print(\"\\n===================================\\n\")\n"
   ]
  },
  {
   "cell_type": "code",
   "execution_count": null,
   "id": "48e64664",
   "metadata": {},
   "outputs": [],
   "source": []
  },
  {
   "cell_type": "code",
   "execution_count": null,
   "id": "76920e53",
   "metadata": {},
   "outputs": [],
   "source": []
  }
 ],
 "metadata": {
  "kernelspec": {
   "name": "python388jvsc74a57bd0e134e05457d34029b6460cd73bbf1ed73f339b5b6d98c95be70b69eba114fe95",
   "display_name": "Python 3.8.8 64-bit ('base': conda)"
  },
  "language_info": {
   "codemirror_mode": {
    "name": "ipython",
    "version": 3
   },
   "file_extension": ".py",
   "mimetype": "text/x-python",
   "name": "python",
   "nbconvert_exporter": "python",
   "pygments_lexer": "ipython3",
   "version": "3.8.8"
  }
 },
 "nbformat": 4,
 "nbformat_minor": 5
}