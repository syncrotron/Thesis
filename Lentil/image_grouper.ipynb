{
 "cells": [
  {
   "cell_type": "code",
   "execution_count": 4,
   "source": [
    "import pandas as pd\n",
    "from PIL import Image, ImageEnhance, ImageFont, ImageDraw\n",
    "import os\n",
    "import math\n",
    "\n",
    "DATASTORE_PATH = \"/datastore/AGILE/BELToutput/LDP_Sebastian\"\n",
    "\n",
    "# This script expects the following headers in the below csv: img,k,group_pred\n",
    "INPUT_CSV_PATH = \"/birl2/users/sch923/Thesis/Lentil/pattern_5000_new.csv\"\n",
    "\n",
    "SUB_IMG_X_Y = 200\n",
    "IMGS_PER_ROW = 10\n",
    "COLLAGE_X_Y = SUB_IMG_X_Y * IMGS_PER_ROW\n",
    "\n",
    "OUTDIR = \"/birl2/users/sch923/Thesis/Lentil/Collages_new_5000\"\n",
    "\n",
    "FONT_PATH = \"/birl2/users/sch923/times-new-roman.ttf\""
   ],
   "outputs": [],
   "metadata": {}
  },
  {
   "cell_type": "code",
   "execution_count": 2,
   "source": [
    "# Cell used to grab all image locals, kgroups, and prediction groups from csv\n",
    "\n",
    "predictions_df = pd.read_csv(INPUT_CSV_PATH)            "
   ],
   "outputs": [],
   "metadata": {}
  },
  {
   "cell_type": "code",
   "execution_count": 5,
   "source": [
    "# Creates collage\n",
    "\n",
    "max_k_list = predictions_df['k'].unique().tolist()\n",
    "font = ImageFont.truetype(FONT_PATH, 64)\n",
    "for max_k in max_k_list:\n",
    "    # Filters predictions to only include the current max_k\n",
    "    max_k_filtered_df = predictions_df[predictions_df['k'] == max_k]\n",
    "    for pred in range(0, max_k):\n",
    "        filtered_df = max_k_filtered_df[max_k_filtered_df['group_pred'] == pred]\n",
    "        per_row = min(IMGS_PER_ROW, int(math.sqrt(len(filtered_df))))\n",
    "        print(f\"IMGS_PER_ROW: {IMGS_PER_ROW}, int(math.sqrt(len(filtered_df))): {int(math.sqrt(len(filtered_df)))}\")\n",
    "        collage_x_y = SUB_IMG_X_Y * per_row\n",
    "        pred_sample_df = filtered_df.sample(n=per_row**2, random_state=1, replace=False) # Random state was selected at random (manually)\n",
    "        collage = Image.new(\"RGBA\", (collage_x_y,collage_x_y))\n",
    "        img_path_list = pred_sample_df['img'].tolist()\n",
    "        for x in range(0, per_row):\n",
    "            for y in range(0, per_row):\n",
    "                img = Image.open(img_path_list.pop())\n",
    "                img = img.resize((SUB_IMG_X_Y,SUB_IMG_X_Y))\n",
    "                collage.paste(img, (x*SUB_IMG_X_Y,y*SUB_IMG_X_Y))\n",
    "        \n",
    "        \n",
    "        # Label the image with interesting metadata and save\n",
    "        draw = ImageDraw.Draw(collage)\n",
    "        draw.text((0, 0),f\" Total Groups = {max_k}, Group Prediction = {pred+1}\",(255,255,255), font=font)\n",
    "        # collage.show()\n",
    "        collage_name = f\"totalk{max_k}_predk{pred+1}_lentil_collage_5000.png\"\n",
    "        collage.save(os.path.join(OUTDIR,collage_name))"
   ],
   "outputs": [
    {
     "output_type": "stream",
     "name": "stdout",
     "text": [
      "IMGS_PER_ROW: 10, len(filtered_df): 449\n",
      "IMGS_PER_ROW: 10, len(filtered_df): 3586\n",
      "IMGS_PER_ROW: 10, len(filtered_df): 3268\n",
      "IMGS_PER_ROW: 10, len(filtered_df): 597\n",
      "IMGS_PER_ROW: 10, len(filtered_df): 170\n",
      "IMGS_PER_ROW: 10, len(filtered_df): 536\n"
     ]
    }
   ],
   "metadata": {}
  },
  {
   "cell_type": "code",
   "execution_count": null,
   "source": [],
   "outputs": [],
   "metadata": {}
  },
  {
   "cell_type": "code",
   "execution_count": null,
   "source": [],
   "outputs": [],
   "metadata": {}
  }
 ],
 "metadata": {
  "kernelspec": {
   "name": "python3",
   "display_name": "Python 3.7.11 64-bit ('thesis_env': conda)"
  },
  "language_info": {
   "codemirror_mode": {
    "name": "ipython",
    "version": 3
   },
   "file_extension": ".py",
   "mimetype": "text/x-python",
   "name": "python",
   "nbconvert_exporter": "python",
   "pygments_lexer": "ipython3",
   "version": "3.7.11"
  },
  "interpreter": {
   "hash": "1ba9ac630c9f2dd3511fdfeda2d56f08e3335139f33aea9e4eda54962c7821d0"
  }
 },
 "nbformat": 4,
 "nbformat_minor": 5
}