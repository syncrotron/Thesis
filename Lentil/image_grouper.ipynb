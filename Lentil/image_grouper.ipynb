{
 "cells": [
  {
   "cell_type": "code",
   "execution_count": null,
   "id": "c17fa817",
   "metadata": {},
   "outputs": [],
   "source": [
    "import pandas as pd\n",
    "from PIL import Image, ImageEnhance, ImageFont, ImageDraw\n",
    "import os\n",
    "\n",
    "DATASTORE_PATH = \"/datastore/AGILE/BELToutput/LDP_Sebastian\"\n",
    "\n",
    "# This script expects the following headers in the below csv: img,k,group_pred\n",
    "INPUT_CSV_PATH = \"/birl2/users/sch923/Thesis/Lentil/pattern_10000.csv\"\n",
    "\n",
    "SUB_IMG_X_Y = 200\n",
    "IMGS_PER_ROW = 10\n",
    "COLLAGE_X_Y = SUB_IMG_X_Y * IMGS_PER_ROW\n",
    "\n",
    "OUTDIR = \"/birl2/users/sch923/Thesis/Lentil/Collages\"\n",
    "\n",
    "FONT_PATH = \"/birl2/users/sch923/times-new-roman.ttf\""
   ]
  },
  {
   "cell_type": "code",
   "execution_count": null,
   "id": "af3b2185",
   "metadata": {},
   "outputs": [],
   "source": [
    "# Cell used to grab all image locals, kgroups, and prediction groups from csv\n",
    "\n",
    "predictions_df = pd.read_csv(INPUT_CSV_PATH)            "
   ]
  },
  {
   "cell_type": "code",
   "execution_count": null,
   "id": "3684aa4f",
   "metadata": {},
   "outputs": [],
   "source": [
    "# Creates collage\n",
    "\n",
    "max_k_list = predictions_df['k'].unique().tolist()\n",
    "font = ImageFont.truetype(FONT_PATH, 64)\n",
    "for max_k in max_k_list:\n",
    "    # Filters predictions to only include the current max_k\n",
    "    max_k_filtered_df = predictions_df[predictions_df['k'] == max_k]\n",
    "    for pred in range(0, max_k):\n",
    "        pred_sample_df = max_k_filtered_df[max_k_filtered_df['group_pred'] == pred].sample(n=IMGS_PER_ROW*IMGS_PER_ROW, random_state=1) # Random state was selected at random (manually)\n",
    "        collage = Image.new(\"RGBA\", (COLLAGE_X_Y,COLLAGE_X_Y))\n",
    "        img_path_list = pred_sample_df['img'].tolist()\n",
    "        for x in range(0, IMGS_PER_ROW):\n",
    "            for y in range(0, IMGS_PER_ROW):\n",
    "                img = Image.open(img_path_list.pop())\n",
    "                img = img.resize((SUB_IMG_X_Y,SUB_IMG_X_Y))\n",
    "                collage.paste(img, (x*SUB_IMG_X_Y,y*SUB_IMG_X_Y))\n",
    "        \n",
    "        \n",
    "        # Label the image with interesting metadata and save\n",
    "        draw = ImageDraw.Draw(collage)\n",
    "        draw.text((0, 0),f\" Total Groups = {max_k}, Group Prediction = {pred+1}\",(255,255,255), font=font)\n",
    "        collage.show()\n",
    "        collage_name = f\"totalk{max_k}_predk{pred+1}_lentil_collage.png\"\n",
    "        collage.save(os.path.join(OUTDIR,collage_name))"
   ]
  },
  {
   "cell_type": "code",
   "execution_count": null,
   "id": "841ab283",
   "metadata": {},
   "outputs": [],
   "source": []
  },
  {
   "cell_type": "code",
   "execution_count": null,
   "id": "4a1a2bb7",
   "metadata": {},
   "outputs": [],
   "source": []
  }
 ],
 "metadata": {
  "kernelspec": {
   "display_name": "Python (test)",
   "language": "python",
   "name": "test"
  },
  "language_info": {
   "codemirror_mode": {
    "name": "ipython",
    "version": 3
   },
   "file_extension": ".py",
   "mimetype": "text/x-python",
   "name": "python",
   "nbconvert_exporter": "python",
   "pygments_lexer": "ipython3",
   "version": "3.7.11"
  }
 },
 "nbformat": 4,
 "nbformat_minor": 5
}
