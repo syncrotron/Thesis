{
 "cells": [
  {
   "cell_type": "code",
   "execution_count": 8,
   "source": [
    "# Developed by Samuel Horovatin at the University of Saskatchewan\n",
    "# July, 2021\n",
    "from plantcv import plantcv as pcv\n",
    "import matplotlib\n",
    "import os"
   ],
   "outputs": [],
   "metadata": {}
  },
  {
   "cell_type": "code",
   "execution_count": 22,
   "source": [
    "matplotlib.rcParams[\"figure.figsize\"] = [8, 8]\n",
    "class options:\n",
    "    def __init__(self):\n",
    "        # Input image path/filename\n",
    "        self.image_dir = \"/student/sch923/Thesis/data/lentil/\"\n",
    "        # Debug mode = None, \"plot\", or \"print\"\n",
    "        self.debug = None\n",
    "        # Store output images (True/False)\n",
    "        self.writeimg = False\n",
    "        # Results path/filename\n",
    "        self.result = \"results.txt\"\n",
    "        # Image output directory path\n",
    "        self.outdir = \"/student/sch923/Thesis/Lentil/Processed/\"\n",
    "\n",
    "# Initialize options\n",
    "args = options()\n",
    "# Set PlantCV debug mode to input debug method\n",
    "pcv.params.debug = args.debug\n",
    "# Increase text size in plots\n",
    "pcv.params.text_size = 20\n",
    "pcv.params.text_thickness = 10"
   ],
   "outputs": [],
   "metadata": {}
  },
  {
   "cell_type": "code",
   "execution_count": 26,
   "source": [
    "for lentil_image in os.listdir(args.image_dir):\n",
    "    img, path, filename = pcv.readimage(filename=args.image_dir+lentil_image)\n",
    "    img = img[:, :1400, :] #removes mirror\n",
    "    cs_plot = pcv.visualize.colorspaces(rgb_img=img, original_img=False)\n",
    "    s = pcv.rgb2gray_hsv(rgb_img=img, channel='s')\n",
    "    s_thresh = pcv.threshold.binary(gray_img=s, threshold=60, max_value=255, object_type='light') # threshold is 60 to remove little lentil flecks\n",
    "    b = pcv.rgb2gray_lab(rgb_img=img, channel='b')\n",
    "    b_thresh = pcv.threshold.binary(gray_img=b, threshold=137, max_value=255, object_type='light')\n",
    "    a = pcv.rgb2gray_lab(rgb_img=img, channel='a')\n",
    "    a_thresh = pcv.threshold.binary(gray_img=a, threshold=133, max_value=255, object_type='light')\n",
    "    bs = pcv.logical_or(bin_img1=s_thresh, bin_img2=b_thresh)\n",
    "    bsa = pcv.logical_or(bin_img1=bs, bin_img2=a_thresh)\n",
    "    bsa_fill1 = pcv.fill(bin_img=bsa, size=200) # Fill small noise\n",
    "    bsa_fill2 = pcv.dilate(gray_img=bsa_fill1, ksize=6, i=2)\n",
    "    # bsa_fill3 and bsa_fill4 are to get rid of tiny lentil flakes\n",
    "    bsa_fill3 = pcv.erode(bsa_fill2, ksize=10, i=4)\n",
    "    bsa_fill4 = pcv.dilate(gray_img=bsa_fill3, ksize=20, i=4)\n",
    "    filled_mask1 = pcv.fill_holes(bsa_fill4)\n",
    "    id_objects, obj_hierarchy = pcv.find_objects(img=img, mask=filled_mask1)\n",
    "    obj, mask = pcv.object_composition(img=img, contours=id_objects, hierarchy=obj_hierarchy)\n",
    "    crop_img = pcv.auto_crop(img=img, obj=obj, padding_x=5, padding_y=5, color='black')\n",
    "    pcv.print_image(crop_img, args.outdir+\"cropped_\"+lentil_image)"
   ],
   "outputs": [],
   "metadata": {}
  },
  {
   "cell_type": "code",
   "execution_count": 24,
   "source": [
    "img, path, filename = pcv.readimage(filename=\"/student/sch923/Thesis/data/lentil/17085814-44.png\")\n",
    "img = img[:, :1400, :] #removes mirror\n",
    "cs_plot = pcv.visualize.colorspaces(rgb_img=img, original_img=False)\n",
    "s = pcv.rgb2gray_hsv(rgb_img=img, channel='s')\n",
    "s_thresh = pcv.threshold.binary(gray_img=s, threshold=60, max_value=255, object_type='light') # threshold is 60 to remove little lentil flecks\n",
    "b = pcv.rgb2gray_lab(rgb_img=img, channel='b')\n",
    "b_thresh = pcv.threshold.binary(gray_img=b, threshold=137, max_value=255, object_type='light')\n",
    "a = pcv.rgb2gray_lab(rgb_img=img, channel='a')\n",
    "a_thresh = pcv.threshold.binary(gray_img=a, threshold=133, max_value=255, object_type='light')\n",
    "bs = pcv.logical_or(bin_img1=s_thresh, bin_img2=b_thresh)\n",
    "bsa = pcv.logical_or(bin_img1=bs, bin_img2=a_thresh)\n",
    "bsa_fill1 = pcv.fill(bin_img=bsa, size=200) # Fill small noise\n",
    "bsa_fill2 = pcv.dilate(gray_img=bsa_fill1, ksize=6, i=2)\n",
    "# bsa_fill3 and bsa_fill4 are to get rid of tiny lentil flakes\n",
    "bsa_fill3 = pcv.erode(bsa_fill2, ksize=10, i=4)\n",
    "bsa_fill4 = pcv.dilate(gray_img=bsa_fill3, ksize=10, i=4)\n",
    "filled_mask1 = pcv.fill_holes(bsa_fill4)\n",
    "id_objects, obj_hierarchy = pcv.find_objects(img=img, mask=filled_mask1)\n",
    "obj, mask = pcv.object_composition(img=img, contours=id_objects, hierarchy=obj_hierarchy)\n",
    "crop_img = pcv.auto_crop(img=img, obj=obj, padding_x=5, padding_y=5, color='black')\n",
    "pcv.print_image(crop_img, args.outdir+\"cropped_\"+lentil_image)"
   ],
   "outputs": [],
   "metadata": {}
  }
 ],
 "metadata": {
  "orig_nbformat": 4,
  "language_info": {
   "name": "python",
   "version": "3.8.8",
   "mimetype": "text/x-python",
   "codemirror_mode": {
    "name": "ipython",
    "version": 3
   },
   "pygments_lexer": "ipython3",
   "nbconvert_exporter": "python",
   "file_extension": ".py"
  },
  "kernelspec": {
   "name": "python3",
   "display_name": "Python 3.8.8 64-bit ('Thesis': venv)"
  },
  "interpreter": {
   "hash": "f01d6d169251fa527afd3e2a31f10849b2792e9b88393092f8851a6345a5563a"
  }
 },
 "nbformat": 4,
 "nbformat_minor": 2
}